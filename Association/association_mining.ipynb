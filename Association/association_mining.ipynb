{
 "cells": [
  {
   "attachments": {},
   "cell_type": "markdown",
   "metadata": {},
   "source": [
    "# Chris Gomez"
   ]
  },
  {
   "attachments": {},
   "cell_type": "markdown",
   "metadata": {},
   "source": [
    "Import necessary libraries"
   ]
  },
  {
   "cell_type": "code",
   "execution_count": 1,
   "metadata": {},
   "outputs": [],
   "source": [
    "import pandas as pd\n",
    "import numpy as np\n",
    "from apriori_python import apriori "
   ]
  },
  {
   "attachments": {},
   "cell_type": "markdown",
   "metadata": {},
   "source": [
    "Read in dataset"
   ]
  },
  {
   "cell_type": "code",
   "execution_count": 19,
   "metadata": {},
   "outputs": [
    {
     "data": {
      "text/html": [
       "<div>\n",
       "<style scoped>\n",
       "    .dataframe tbody tr th:only-of-type {\n",
       "        vertical-align: middle;\n",
       "    }\n",
       "\n",
       "    .dataframe tbody tr th {\n",
       "        vertical-align: top;\n",
       "    }\n",
       "\n",
       "    .dataframe thead th {\n",
       "        text-align: right;\n",
       "    }\n",
       "</style>\n",
       "<table border=\"1\" class=\"dataframe\">\n",
       "  <thead>\n",
       "    <tr style=\"text-align: right;\">\n",
       "      <th></th>\n",
       "      <th>0</th>\n",
       "      <th>1</th>\n",
       "      <th>2</th>\n",
       "      <th>3</th>\n",
       "      <th>4</th>\n",
       "    </tr>\n",
       "  </thead>\n",
       "  <tbody>\n",
       "    <tr>\n",
       "      <th>0</th>\n",
       "      <td>Biscuit</td>\n",
       "      <td>Bournvita</td>\n",
       "      <td>Butter</td>\n",
       "      <td>Cornflakes</td>\n",
       "      <td>Tea</td>\n",
       "    </tr>\n",
       "    <tr>\n",
       "      <th>1</th>\n",
       "      <td>Bournvita</td>\n",
       "      <td>Bread</td>\n",
       "      <td>Butter</td>\n",
       "      <td>Cornflakes</td>\n",
       "      <td>NaN</td>\n",
       "    </tr>\n",
       "    <tr>\n",
       "      <th>2</th>\n",
       "      <td>Butter</td>\n",
       "      <td>Coffee</td>\n",
       "      <td>Chocolate</td>\n",
       "      <td>Eggs</td>\n",
       "      <td>Jam</td>\n",
       "    </tr>\n",
       "    <tr>\n",
       "      <th>3</th>\n",
       "      <td>Bournvita</td>\n",
       "      <td>Butter</td>\n",
       "      <td>Cornflakes</td>\n",
       "      <td>Bread</td>\n",
       "      <td>Eggs</td>\n",
       "    </tr>\n",
       "    <tr>\n",
       "      <th>4</th>\n",
       "      <td>Bournvita</td>\n",
       "      <td>Bread</td>\n",
       "      <td>Coffee</td>\n",
       "      <td>Chocolate</td>\n",
       "      <td>Eggs</td>\n",
       "    </tr>\n",
       "    <tr>\n",
       "      <th>5</th>\n",
       "      <td>Jam</td>\n",
       "      <td>Sugar</td>\n",
       "      <td>NaN</td>\n",
       "      <td>NaN</td>\n",
       "      <td>NaN</td>\n",
       "    </tr>\n",
       "    <tr>\n",
       "      <th>6</th>\n",
       "      <td>Biscuit</td>\n",
       "      <td>Bournvita</td>\n",
       "      <td>Butter</td>\n",
       "      <td>Cornflakes</td>\n",
       "      <td>Jam</td>\n",
       "    </tr>\n",
       "    <tr>\n",
       "      <th>7</th>\n",
       "      <td>Curd</td>\n",
       "      <td>Jam</td>\n",
       "      <td>Sugar</td>\n",
       "      <td>NaN</td>\n",
       "      <td>NaN</td>\n",
       "    </tr>\n",
       "    <tr>\n",
       "      <th>8</th>\n",
       "      <td>Bournvita</td>\n",
       "      <td>Bread</td>\n",
       "      <td>Butter</td>\n",
       "      <td>Coffee</td>\n",
       "      <td>Cornflakes</td>\n",
       "    </tr>\n",
       "    <tr>\n",
       "      <th>9</th>\n",
       "      <td>Bournvita</td>\n",
       "      <td>Bread</td>\n",
       "      <td>Coffee</td>\n",
       "      <td>Chocolate</td>\n",
       "      <td>Eggs</td>\n",
       "    </tr>\n",
       "    <tr>\n",
       "      <th>10</th>\n",
       "      <td>Bournvita</td>\n",
       "      <td>Butter</td>\n",
       "      <td>Eggs</td>\n",
       "      <td>NaN</td>\n",
       "      <td>NaN</td>\n",
       "    </tr>\n",
       "    <tr>\n",
       "      <th>11</th>\n",
       "      <td>Bournvita</td>\n",
       "      <td>Butter</td>\n",
       "      <td>Cornflakes</td>\n",
       "      <td>Chocolate</td>\n",
       "      <td>Eggs</td>\n",
       "    </tr>\n",
       "    <tr>\n",
       "      <th>12</th>\n",
       "      <td>Biscuit</td>\n",
       "      <td>Bournvita</td>\n",
       "      <td>Bread</td>\n",
       "      <td>NaN</td>\n",
       "      <td>NaN</td>\n",
       "    </tr>\n",
       "    <tr>\n",
       "      <th>13</th>\n",
       "      <td>Bread</td>\n",
       "      <td>Butter</td>\n",
       "      <td>Coffee</td>\n",
       "      <td>Chocolate</td>\n",
       "      <td>Eggs</td>\n",
       "    </tr>\n",
       "    <tr>\n",
       "      <th>14</th>\n",
       "      <td>Coffee</td>\n",
       "      <td>Cornflakes</td>\n",
       "      <td>NaN</td>\n",
       "      <td>NaN</td>\n",
       "      <td>NaN</td>\n",
       "    </tr>\n",
       "    <tr>\n",
       "      <th>15</th>\n",
       "      <td>Chocolate</td>\n",
       "      <td>NaN</td>\n",
       "      <td>NaN</td>\n",
       "      <td>NaN</td>\n",
       "      <td>NaN</td>\n",
       "    </tr>\n",
       "    <tr>\n",
       "      <th>16</th>\n",
       "      <td>Chocolate</td>\n",
       "      <td>Curd</td>\n",
       "      <td>Eggs</td>\n",
       "      <td>NaN</td>\n",
       "      <td>NaN</td>\n",
       "    </tr>\n",
       "    <tr>\n",
       "      <th>17</th>\n",
       "      <td>Biscuit</td>\n",
       "      <td>Bournvita</td>\n",
       "      <td>Butter</td>\n",
       "      <td>Cornflakes</td>\n",
       "      <td>NaN</td>\n",
       "    </tr>\n",
       "    <tr>\n",
       "      <th>18</th>\n",
       "      <td>Bournvita</td>\n",
       "      <td>Bread</td>\n",
       "      <td>Coffee</td>\n",
       "      <td>Chocolate</td>\n",
       "      <td>Eggs</td>\n",
       "    </tr>\n",
       "    <tr>\n",
       "      <th>19</th>\n",
       "      <td>Butter</td>\n",
       "      <td>Coffee</td>\n",
       "      <td>Chocolate</td>\n",
       "      <td>Eggs</td>\n",
       "      <td>NaN</td>\n",
       "    </tr>\n",
       "    <tr>\n",
       "      <th>20</th>\n",
       "      <td>Jam</td>\n",
       "      <td>Sugar</td>\n",
       "      <td>Tea</td>\n",
       "      <td>NaN</td>\n",
       "      <td>NaN</td>\n",
       "    </tr>\n",
       "    <tr>\n",
       "      <th>21</th>\n",
       "      <td>Bournvita</td>\n",
       "      <td>Bread</td>\n",
       "      <td>Butter</td>\n",
       "      <td>Cornflakes</td>\n",
       "      <td>NaN</td>\n",
       "    </tr>\n",
       "    <tr>\n",
       "      <th>22</th>\n",
       "      <td>Coffee</td>\n",
       "      <td>Chocolate</td>\n",
       "      <td>Eggs</td>\n",
       "      <td>Jam</td>\n",
       "      <td>Juice</td>\n",
       "    </tr>\n",
       "    <tr>\n",
       "      <th>23</th>\n",
       "      <td>Juice</td>\n",
       "      <td>Milk</td>\n",
       "      <td>Rice</td>\n",
       "      <td>NaN</td>\n",
       "      <td>NaN</td>\n",
       "    </tr>\n",
       "    <tr>\n",
       "      <th>24</th>\n",
       "      <td>Rice</td>\n",
       "      <td>Soap</td>\n",
       "      <td>Sugar</td>\n",
       "      <td>NaN</td>\n",
       "      <td>NaN</td>\n",
       "    </tr>\n",
       "  </tbody>\n",
       "</table>\n",
       "</div>"
      ],
      "text/plain": [
       "            0           1           2           3           4\n",
       "0     Biscuit   Bournvita      Butter  Cornflakes         Tea\n",
       "1   Bournvita       Bread      Butter  Cornflakes         NaN\n",
       "2      Butter      Coffee   Chocolate        Eggs         Jam\n",
       "3   Bournvita      Butter  Cornflakes       Bread        Eggs\n",
       "4   Bournvita       Bread      Coffee   Chocolate        Eggs\n",
       "5         Jam       Sugar         NaN         NaN         NaN\n",
       "6     Biscuit   Bournvita      Butter  Cornflakes         Jam\n",
       "7        Curd         Jam       Sugar         NaN         NaN\n",
       "8   Bournvita       Bread      Butter      Coffee  Cornflakes\n",
       "9   Bournvita       Bread      Coffee   Chocolate        Eggs\n",
       "10  Bournvita      Butter        Eggs         NaN         NaN\n",
       "11  Bournvita      Butter  Cornflakes   Chocolate        Eggs\n",
       "12    Biscuit   Bournvita       Bread         NaN         NaN\n",
       "13      Bread      Butter      Coffee   Chocolate        Eggs\n",
       "14     Coffee  Cornflakes         NaN         NaN         NaN\n",
       "15  Chocolate         NaN         NaN         NaN         NaN\n",
       "16  Chocolate        Curd        Eggs         NaN         NaN\n",
       "17    Biscuit   Bournvita      Butter  Cornflakes         NaN\n",
       "18  Bournvita       Bread      Coffee   Chocolate        Eggs\n",
       "19     Butter      Coffee   Chocolate        Eggs         NaN\n",
       "20        Jam       Sugar         Tea         NaN         NaN\n",
       "21  Bournvita       Bread      Butter  Cornflakes         NaN\n",
       "22     Coffee   Chocolate        Eggs         Jam       Juice\n",
       "23      Juice        Milk        Rice         NaN         NaN\n",
       "24       Rice        Soap       Sugar         NaN         NaN"
      ]
     },
     "execution_count": 19,
     "metadata": {},
     "output_type": "execute_result"
    }
   ],
   "source": [
    "df = pd.read_csv(\"Dataset.csv\", header = None)\n",
    "df"
   ]
  },
  {
   "attachments": {},
   "cell_type": "markdown",
   "metadata": {},
   "source": [
    "Making transactions"
   ]
  },
  {
   "cell_type": "code",
   "execution_count": 3,
   "metadata": {},
   "outputs": [],
   "source": [
    "transactions = []\n",
    "for i in range(0,25):\n",
    "    transactions.append([str(df.values[i,j]) for j in range (0,5)])"
   ]
  },
  {
   "attachments": {},
   "cell_type": "markdown",
   "metadata": {},
   "source": [
    "Using apriori method to build model"
   ]
  },
  {
   "cell_type": "code",
   "execution_count": 4,
   "metadata": {},
   "outputs": [],
   "source": [
    "freq_items, rules = apriori(transactions, minSup = 0.249, minConf = 0.699)"
   ]
  },
  {
   "attachments": {},
   "cell_type": "markdown",
   "metadata": {},
   "source": [
    "freq_items = the frequent item lists with support greater than 24.9%"
   ]
  },
  {
   "attachments": {},
   "cell_type": "markdown",
   "metadata": {},
   "source": [
    "rules = transactions greater than 69.9% confidence"
   ]
  },
  {
   "attachments": {},
   "cell_type": "markdown",
   "metadata": {},
   "source": [
    "## What are the top five rules on a given dataset? "
   ]
  },
  {
   "attachments": {},
   "cell_type": "markdown",
   "metadata": {},
   "source": [
    "So it looks like we have all rules with confidence greater than 69.9% and lists them in ascending order. If we want to find the top five rules on this dataset, we look at the last 5 in rules as follows..."
   ]
  },
  {
   "cell_type": "code",
   "execution_count": 6,
   "metadata": {},
   "outputs": [
    {
     "data": {
      "text/plain": [
       "[[{'Chocolate'}, {'Eggs'}, 0.9],\n",
       " [{'Coffee', 'Eggs'}, {'Chocolate'}, 1.0],\n",
       " [{'Chocolate', 'Coffee'}, {'Eggs'}, 1.0],\n",
       " [{'Bournvita', 'Cornflakes'}, {'Butter'}, 1.0],\n",
       " [{'Butter', 'Cornflakes'}, {'Bournvita'}, 1.0]]"
      ]
     },
     "execution_count": 6,
     "metadata": {},
     "output_type": "execute_result"
    }
   ],
   "source": [
    "last_five_rules = rules[-5:]\n",
    "last_five_rules"
   ]
  },
  {
   "attachments": {},
   "cell_type": "markdown",
   "metadata": {},
   "source": [
    "Thus we can see from the list above the top five rules and in case you don't see them, I will write them in this markdown...\n",
    "CONFIDENCE(Chocolate -> eggs) = 0.9 or 90%                                      \n",
    "CONFIDENCE(Bournvita, Cornflakes -> Butter) = 1.0 or 100%                                                                         \n",
    "CONFIDENCE(Butter, Cornflakes -> Bournvita) = 1.0 or 100%                                                             \n",
    "CONFIDENCE(Chocolate, Coffee -> Eggs) = 1.0 or 100%                                                                                       \n",
    "CONFIDENCE(Coffee, Eggs -> Chocolate) = 1.0 or 100%\n",
    "\n"
   ]
  },
  {
   "attachments": {},
   "cell_type": "markdown",
   "metadata": {},
   "source": [
    "## What is your major learning outcome of this assignment?"
   ]
  },
  {
   "attachments": {},
   "cell_type": "markdown",
   "metadata": {},
   "source": [
    "I think for me the biggest learning outcome is how the apriori algorithm works using the apriori_python. Also just learning how we can apply/make associations in supermarkets. Looking at the results, I think the obvious is that we have 2 very common groupings of food items.      \n",
    "1. (Chocolate, Eggs, Coffee)                                                                                                \n",
    "2. (Bournvita, Butter, Cornflakes)                                                                                                      \n",
    "Supermarkets should definitely group these items in the same aisle!"
   ]
  },
  {
   "attachments": {},
   "cell_type": "markdown",
   "metadata": {},
   "source": [
    "## How we can specify the value of lift in extracting rules?"
   ]
  },
  {
   "attachments": {},
   "cell_type": "markdown",
   "metadata": {},
   "source": [
    "lift(x->y) = confidence(x and y) / support(y)"
   ]
  },
  {
   "attachments": {},
   "cell_type": "markdown",
   "metadata": {},
   "source": [
    "lets start by finding the support..."
   ]
  },
  {
   "cell_type": "code",
   "execution_count": 28,
   "metadata": {},
   "outputs": [
    {
     "data": {
      "text/plain": [
       "[[{'Chocolate'}, {'Coffee'}, 0.7],\n",
       " [{'Chocolate'}, {'Coffee', 'Eggs'}, 0.7],\n",
       " [{'Butter'}, {'Bournvita'}, 0.75],\n",
       " [{'Coffee'}, {'Eggs'}, 0.7777777777777778],\n",
       " [{'Coffee'}, {'Chocolate'}, 0.7777777777777778],\n",
       " [{'Coffee'}, {'Chocolate', 'Eggs'}, 0.7777777777777778],\n",
       " [{'Chocolate', 'Eggs'}, {'Coffee'}, 0.7777777777777778],\n",
       " [{'Eggs'}, {'Chocolate'}, 0.8181818181818182],\n",
       " [{'Cornflakes'}, {'Bournvita'}, 0.8888888888888888],\n",
       " [{'Bread'}, {'Bournvita'}, 0.8888888888888888],\n",
       " [{'Cornflakes'}, {'Butter'}, 0.8888888888888888],\n",
       " [{'Cornflakes'}, {'Bournvita', 'Butter'}, 0.8888888888888888],\n",
       " [{'Bournvita', 'Butter'}, {'Cornflakes'}, 0.8888888888888888],\n",
       " [{'Chocolate'}, {'Eggs'}, 0.9],\n",
       " [{'Coffee', 'Eggs'}, {'Chocolate'}, 1.0],\n",
       " [{'Chocolate', 'Coffee'}, {'Eggs'}, 1.0],\n",
       " [{'Bournvita', 'Cornflakes'}, {'Butter'}, 1.0],\n",
       " [{'Butter', 'Cornflakes'}, {'Bournvita'}, 1.0]]"
      ]
     },
     "execution_count": 28,
     "metadata": {},
     "output_type": "execute_result"
    }
   ],
   "source": [
    "rules"
   ]
  },
  {
   "cell_type": "code",
   "execution_count": 22,
   "metadata": {},
   "outputs": [
    {
     "name": "stdout",
     "output_type": "stream",
     "text": [
      "{frozenset({'Bournvita'}): 0.16, frozenset({'Biscuit'}): 0.16, frozenset({'Butter'}): 0.24, frozenset({'Jam'}): 0.08, frozenset({'Coffee'}): 0.04, frozenset({'Chocolate'}): 0.2, frozenset({'Curd'}): 0.04, frozenset({'Bread'}): 0.04, frozenset({'Juice'}): 0.04, frozenset({'Rice'}): 0.04, frozenset({'Sugar'}): 0.08, frozenset({'Cornflakes'}): 0.04, frozenset({'Milk'}): 0.04, frozenset({'Soap'}): 0.04, frozenset({'Eggs'}): 0.24, frozenset({'Tea'}): 0.04}\n"
     ]
    }
   ],
   "source": [
    "# Calculate the total number of transactions\n",
    "total_transactions = len(df)\n",
    "\n",
    "# Create an empty dictionary to store support values\n",
    "support_values = {}\n",
    "\n",
    "# Iterate over each column in the dataframe\n",
    "for column in df.columns:\n",
    "    # Count the occurrences of each unique item\n",
    "    item_counts = df[column].value_counts().to_dict()\n",
    "    \n",
    "    # Calculate the support for each item\n",
    "    for item, count in item_counts.items():\n",
    "        support = count / total_transactions\n",
    "        support_values[frozenset([item])] = support\n",
    "\n",
    "print(support_values)"
   ]
  },
  {
   "attachments": {},
   "cell_type": "markdown",
   "metadata": {},
   "source": [
    "now let's find the lift using the confidence and lift..."
   ]
  },
  {
   "cell_type": "code",
   "execution_count": 30,
   "metadata": {},
   "outputs": [
    {
     "name": "stdout",
     "output_type": "stream",
     "text": [
      "[(frozenset({'Chocolate'}), frozenset({'Coffee'}), 87.49999999999999), (frozenset({'Chocolate'}), frozenset({'Eggs', 'Coffee'}), 0.0), (frozenset({'Butter'}), frozenset({'Bournvita'}), 19.53125), (frozenset({'Coffee'}), frozenset({'Eggs'}), 81.01851851851853), (frozenset({'Coffee'}), frozenset({'Chocolate'}), 97.22222222222223), (frozenset({'Coffee'}), frozenset({'Eggs', 'Chocolate'}), 0.0), (frozenset({'Eggs', 'Chocolate'}), frozenset({'Coffee'}), 0.0), (frozenset({'Eggs'}), frozenset({'Chocolate'}), 17.045454545454547), (frozenset({'Cornflakes'}), frozenset({'Bournvita'}), 138.88888888888889), (frozenset({'Bread'}), frozenset({'Bournvita'}), 138.88888888888889), (frozenset({'Cornflakes'}), frozenset({'Butter'}), 92.5925925925926), (frozenset({'Cornflakes'}), frozenset({'Bournvita', 'Butter'}), 0.0), (frozenset({'Bournvita', 'Butter'}), frozenset({'Cornflakes'}), 0.0), (frozenset({'Chocolate'}), frozenset({'Eggs'}), 18.75), (frozenset({'Eggs', 'Coffee'}), frozenset({'Chocolate'}), 0.0), (frozenset({'Chocolate', 'Coffee'}), frozenset({'Eggs'}), 0.0), (frozenset({'Bournvita', 'Cornflakes'}), frozenset({'Butter'}), 0.0), (frozenset({'Butter', 'Cornflakes'}), frozenset({'Bournvita'}), 0.0)]\n"
     ]
    }
   ],
   "source": [
    "lift_values = []\n",
    "\n",
    "for rule in rules:\n",
    "    antecedent = frozenset(rule[0])\n",
    "    consequent = frozenset(rule[1])\n",
    "    confidence = rule[2]\n",
    "\n",
    "    support_antecedent = support_values.get(antecedent, 0.0)\n",
    "    support_consequent = support_values.get(consequent, 0.0)\n",
    "    support_antecedent_consequent = support_values.get(antecedent.union(consequent), 0.0)\n",
    "\n",
    "    if support_antecedent != 0.0 and support_consequent != 0.0:\n",
    "        lift = confidence / (support_antecedent * support_consequent)\n",
    "    else:\n",
    "        lift = 0.0\n",
    "\n",
    "    lift_values.append((antecedent, consequent, lift))\n",
    "\n",
    "print(lift_values)\n"
   ]
  }
 ],
 "metadata": {
  "kernelspec": {
   "display_name": "base",
   "language": "python",
   "name": "python3"
  },
  "language_info": {
   "codemirror_mode": {
    "name": "ipython",
    "version": 3
   },
   "file_extension": ".py",
   "mimetype": "text/x-python",
   "name": "python",
   "nbconvert_exporter": "python",
   "pygments_lexer": "ipython3",
   "version": "3.8.3"
  },
  "orig_nbformat": 4
 },
 "nbformat": 4,
 "nbformat_minor": 2
}
